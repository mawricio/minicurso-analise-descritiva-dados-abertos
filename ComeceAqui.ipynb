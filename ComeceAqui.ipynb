{
 "cells": [
  {
   "cell_type": "markdown",
   "metadata": {
    "colab_type": "text",
    "id": "oh9ydNrKjkLf"
   },
   "source": [
    "# Análise Descritiva de Dados Públicos com Python - SACC 2018\n",
    "\n",
    "Este notebook tem como objetivo aplicar o conhecimento adquirido no minicurso de Análise de Dados Públicos com Python, utilizando a biblioteca Pandas para a manipulação dos dados. \n",
    "\n",
    "## 1. O que é Pandas?"
   ]
  },
  {
   "cell_type": "markdown",
   "metadata": {
    "colab_type": "text",
    "id": "BYwwU0eLjkLs"
   },
   "source": [
    "Biblioteca voltada para computação cinetífica que provê alta performace e facilidade para trabalhar com dados estruturados.\n",
    "Seus principais tipos de dados são `Series` (Array indexado de uma dimensão) e `DataFrame` (Arrays indexados de duas dimensões)"
   ]
  },
  {
   "cell_type": "code",
   "execution_count": 1,
   "metadata": {
    "colab": {},
    "colab_type": "code",
    "collapsed": true,
    "id": "CKchYw0fjkLm"
   },
   "outputs": [],
   "source": [
    "import pandas as pd"
   ]
  },
  {
   "cell_type": "code",
   "execution_count": 2,
   "metadata": {
    "colab": {},
    "colab_type": "code",
    "id": "dnAKb1x0jkLt"
   },
   "outputs": [
    {
     "data": {
      "text/plain": [
       "a    0\n",
       "b    1\n",
       "c    2\n",
       "dtype: int64"
      ]
     },
     "execution_count": 2,
     "metadata": {},
     "output_type": "execute_result"
    }
   ],
   "source": [
    "exemplo_serie = {'b' : 1, 'a' : 0, 'c' : 2}\n",
    "pd.Series(exemplo_serie)"
   ]
  },
  {
   "cell_type": "code",
   "execution_count": 3,
   "metadata": {
    "colab": {},
    "colab_type": "code",
    "id": "AlQ8zU0fjkLz"
   },
   "outputs": [
    {
     "data": {
      "text/html": [
       "<div>\n",
       "<style>\n",
       "    .dataframe thead tr:only-child th {\n",
       "        text-align: right;\n",
       "    }\n",
       "\n",
       "    .dataframe thead th {\n",
       "        text-align: left;\n",
       "    }\n",
       "\n",
       "    .dataframe tbody tr th {\n",
       "        vertical-align: top;\n",
       "    }\n",
       "</style>\n",
       "<table border=\"1\" class=\"dataframe\">\n",
       "  <thead>\n",
       "    <tr style=\"text-align: right;\">\n",
       "      <th></th>\n",
       "      <th>col1</th>\n",
       "      <th>col2</th>\n",
       "      <th>col3</th>\n",
       "    </tr>\n",
       "  </thead>\n",
       "  <tbody>\n",
       "    <tr>\n",
       "      <th>0</th>\n",
       "      <td>3</td>\n",
       "      <td>3.2</td>\n",
       "      <td>texto</td>\n",
       "    </tr>\n",
       "    <tr>\n",
       "      <th>1</th>\n",
       "      <td>4</td>\n",
       "      <td>51.0</td>\n",
       "      <td>também</td>\n",
       "    </tr>\n",
       "    <tr>\n",
       "      <th>2</th>\n",
       "      <td>5</td>\n",
       "      <td>7.0</td>\n",
       "      <td>pode</td>\n",
       "    </tr>\n",
       "  </tbody>\n",
       "</table>\n",
       "</div>"
      ],
      "text/plain": [
       "   col1  col2    col3\n",
       "0     3   3.2   texto\n",
       "1     4  51.0  também\n",
       "2     5   7.0    pode"
      ]
     },
     "execution_count": 3,
     "metadata": {},
     "output_type": "execute_result"
    }
   ],
   "source": [
    "exemplo_df = {'col1': [3, 4, 5], 'col2': [3.2, 51., 7.], 'col3': ['texto', 'também', 'pode']}\n",
    "pd.DataFrame(exemplo_df)"
   ]
  },
  {
   "cell_type": "markdown",
   "metadata": {
    "colab_type": "text",
    "id": "G9TD2U6njkL3"
   },
   "source": [
    "Links interessantes para estudar e tirar dúvidas: \n",
    "- [Cooknook](http://pandas.pydata.org/pandas-docs/stable/cookbook.html)\n",
    "- [10 minutos com Pandas](http://pandas.pydata.org/pandas-docs/stable/10min.html)\n",
    "- [Documentação](http://pandas.pydata.org/pandas-docs/stable/index.html)"
   ]
  },
  {
   "cell_type": "markdown",
   "metadata": {
    "colab_type": "text",
    "id": "6SV1cuKGmdlM"
   },
   "source": [
    "## 2. Contextualização e Descrição dos Dados\n",
    "  \n",
    "  Existe algum assunto mais discutido que eleição (Com exceção da suporta sextape do Doria)? A maior parte das notícias atualmente giram em torno dos presidenciáveis, mas pouco se fala sobre os nossos representantes do Congresso Nacional, os deputados federais e senadores, componentes tão importantes quanto o presidente, pois são eles que criam e votam nos projetos de lei. \n",
    "  \n",
    "  ### Parte 1 - Quem e como são os candidatos eleitos na Câmara e no Senado?\n",
    "  \n",
    "  Um fato interessante sobre os congressitas dessas eleições é que a taxa de renovação do Senado atingiu 85%, a maior renovação de sua história ([Fonte](https://www12.senado.leg.br/noticias/materias/2018/10/08/eleicoes-senado-tem-a-maior-renovacao-da-sua-historia)). O que nos leva a questionar se essa renovação de fato aconteceu ou seja, se os candidatos são mais diversos ou se possuem as mesmas caracteristicas dos senadores anteriores por exemplo.  Podemos extender essas e outras perguntas possíveis paraa a Câmara do Deputados, como a taxa de renovação e se divesidadade aumentou ou diminuiu. \n",
    " \n",
    "   Para reponder  a estas questões, utilizaremos os dados provenientes do [TSE](http://tse.jus.br/eleicoes/estatisticas/repositorio-de-dados-eleitorais-1/repositorio-de-dados-eleitorais), que já foram bem tratados e estão bonitinhos [aqui](https://raw.githubusercontent.com/pyladiespb-org/minicurso-analise-descritiva-dados-abertos/master/data/congressistas-eleitos/eleicoes_2014_e_2018.csv). É importante se familiarizar com os dados que estão nesse dataset. São eles:\n",
    "   * ano: O ano da eleição. Nestes dados pode ser 2014 ou 2018;\n",
    "   * sq_candidato: ID do candidato;\n",
    "   * nome_candidato: Nome do candidato;\n",
    "   * descricao_cargo: O cargo podem ser Senador ou Deputado Federal;\n",
    "   * sigla_partido: A sigla do partido do candidato;\n",
    "   * desc_sit_cand_tot: A situação final do candidato;\n",
    "   * sigla_uf: Estado do candidato;\n",
    "   * total_votos: Quantidade total de votos que o candidato teve;\n",
    "   * sexo: Sexo do candidato;\n",
    "   * estado_civil: Estado civil do candidato;\n",
    "   * grau_instrucao: Escolaridade do candidato;\n",
    "   * descricao_ocupacao: A ocupação do candidato;\n",
    "   * cor_raca: Cor do candidato;\n",
    "   * data_nascimento: Data de nascimento do candidato;\n",
    "   * descricao_nacionalidade: A nascionalidade do candidato.\n",
    "  \n",
    "### Parte 2 - Tá, mas e o quanto eles nos representam?\n",
    "  \n",
    "  Depois de conhecer o perfil destes congressistas, a pergunta que não quer calar é: o quanto esses candidatos são representativos para os brasileiros? Afinal de contas, representatividade importa sim! Para responder a esta pergunta, utilizaremos os dados do levantamento do IBGE de 2010 pego da [Sidra](https://sidra.ibge.gov.br/tabela/3175). Eles estão distribuídos da seguinte forma:\n",
    " * Unidade da Federação: Estado da população;\n",
    " * Sexo: Sexo da população;\n",
    " * Idade: Faixa Etária da população;\n",
    " * Ano: Ano do levantamento;\n",
    " * Cor ou raça: Cor ou raça da população;\n",
    " * Situação do domicílio: Se reside na Zona Rural ou Urbana.\n",
    "  \n",
    " ## 3. Tô prontx, bora começar!\n",
    " \n",
    " Agora você irá praticar algumas manipulações nos dados, como filtragem, agrupamento, sumarização, etc. Começaremos pela filtragem por ser a manipulação mais simples. Mas antes disso, importamos as bibliotecas e os dados necessários para a análise:\n",
    " \n",
    " ### Observando os dados com Pandas"
   ]
  },
  {
   "cell_type": "code",
   "execution_count": 4,
   "metadata": {
    "colab": {},
    "colab_type": "code",
    "collapsed": true,
    "id": "ViSUwFqwrKyK"
   },
   "outputs": [],
   "source": [
    "import io\n",
    "import requests\n",
    "\n",
    "url_dados_congresso = \"https://raw.githubusercontent.com/hadrizia/minicurso-analise-descritiva-dados-abertos/master/data/congressistas-eleitos/eleicoes_2014_e_2018.csv\"\n",
    "s = requests.get(url_dados_congresso).content\n",
    "dados_congresso = pd.read_csv(io.StringIO(s.decode('utf-8')), delimiter=',')\n",
    "\n",
    "url_dados_ibge = 'https://raw.githubusercontent.com/pyladiespb-org/minicurso-analise-descritiva-dados-abertos/master/data/populacao/populacao_idade_agregada.csv'\n",
    "dados_url = requests.get(url_dados_ibge).content\n",
    "dados_ibge = pd.read_csv(io.StringIO(dados_url.decode('utf-8')), delimiter=';', header=2)\n"
   ]
  },
  {
   "cell_type": "markdown",
   "metadata": {
    "colab_type": "text",
    "id": "PaNzV7H4sU_2"
   },
   "source": [
    "#### Dados do Congresso"
   ]
  },
  {
   "cell_type": "code",
   "execution_count": 5,
   "metadata": {
    "colab": {},
    "colab_type": "code",
    "id": "9Os7gGogsQ2g"
   },
   "outputs": [
    {
     "data": {
      "text/html": [
       "<div>\n",
       "<style>\n",
       "    .dataframe thead tr:only-child th {\n",
       "        text-align: right;\n",
       "    }\n",
       "\n",
       "    .dataframe thead th {\n",
       "        text-align: left;\n",
       "    }\n",
       "\n",
       "    .dataframe tbody tr th {\n",
       "        vertical-align: top;\n",
       "    }\n",
       "</style>\n",
       "<table border=\"1\" class=\"dataframe\">\n",
       "  <thead>\n",
       "    <tr style=\"text-align: right;\">\n",
       "      <th></th>\n",
       "      <th>ano</th>\n",
       "      <th>sq_candidato</th>\n",
       "      <th>nome_candidato</th>\n",
       "      <th>descricao_cargo</th>\n",
       "      <th>sigla_partido</th>\n",
       "      <th>desc_sit_cand_tot</th>\n",
       "      <th>sigla_uf</th>\n",
       "      <th>total_votos</th>\n",
       "      <th>sexo</th>\n",
       "      <th>estado_civil</th>\n",
       "      <th>grau_instrucao</th>\n",
       "      <th>descricao_ocupacao</th>\n",
       "      <th>cor_raca</th>\n",
       "      <th>data_nascimento</th>\n",
       "      <th>descricao_nacionalidade</th>\n",
       "    </tr>\n",
       "  </thead>\n",
       "  <tbody>\n",
       "    <tr>\n",
       "      <th>0</th>\n",
       "      <td>2014</td>\n",
       "      <td>10000000001</td>\n",
       "      <td>GLADSON DE LIMA CAMELI</td>\n",
       "      <td>SENADOR</td>\n",
       "      <td>PP</td>\n",
       "      <td>ELEITO</td>\n",
       "      <td>AC</td>\n",
       "      <td>218756</td>\n",
       "      <td>MASCULINO</td>\n",
       "      <td>CASADO(A)</td>\n",
       "      <td>SUPERIOR COMPLETO</td>\n",
       "      <td>DEPUTADO</td>\n",
       "      <td>PARDA</td>\n",
       "      <td>26/03/1978</td>\n",
       "      <td>BRASILEIRA NATA</td>\n",
       "    </tr>\n",
       "    <tr>\n",
       "      <th>1</th>\n",
       "      <td>2014</td>\n",
       "      <td>10000000158</td>\n",
       "      <td>CARLOS CESAR CORREIA DE MESSIAS</td>\n",
       "      <td>DEPUTADO FEDERAL</td>\n",
       "      <td>PSB</td>\n",
       "      <td>ELEITO POR QP</td>\n",
       "      <td>AC</td>\n",
       "      <td>26448</td>\n",
       "      <td>MASCULINO</td>\n",
       "      <td>CASADO(A)</td>\n",
       "      <td>ENSINO FUNDAMENTAL INCOMPLETO</td>\n",
       "      <td>OUTROS</td>\n",
       "      <td>PARDA</td>\n",
       "      <td>05/07/1958</td>\n",
       "      <td>BRASILEIRA NATA</td>\n",
       "    </tr>\n",
       "    <tr>\n",
       "      <th>2</th>\n",
       "      <td>2014</td>\n",
       "      <td>10000000163</td>\n",
       "      <td>LEONARDO CUNHA DE BRITO</td>\n",
       "      <td>DEPUTADO FEDERAL</td>\n",
       "      <td>PT</td>\n",
       "      <td>ELEITO POR QP</td>\n",
       "      <td>AC</td>\n",
       "      <td>20876</td>\n",
       "      <td>MASCULINO</td>\n",
       "      <td>CASADO(A)</td>\n",
       "      <td>SUPERIOR COMPLETO</td>\n",
       "      <td>ADVOGADO</td>\n",
       "      <td>BRANCA</td>\n",
       "      <td>13/04/1979</td>\n",
       "      <td>BRASILEIRA NATA</td>\n",
       "    </tr>\n",
       "    <tr>\n",
       "      <th>3</th>\n",
       "      <td>2014</td>\n",
       "      <td>10000000166</td>\n",
       "      <td>RAIMUNDO ANGELIM VASCONCELOS</td>\n",
       "      <td>DEPUTADO FEDERAL</td>\n",
       "      <td>PT</td>\n",
       "      <td>ELEITO POR QP</td>\n",
       "      <td>AC</td>\n",
       "      <td>39844</td>\n",
       "      <td>MASCULINO</td>\n",
       "      <td>CASADO(A)</td>\n",
       "      <td>SUPERIOR COMPLETO</td>\n",
       "      <td>PROFESSOR DE ENSINO SUPERIOR</td>\n",
       "      <td>BRANCA</td>\n",
       "      <td>19/02/1955</td>\n",
       "      <td>BRASILEIRA NATA</td>\n",
       "    </tr>\n",
       "    <tr>\n",
       "      <th>4</th>\n",
       "      <td>2014</td>\n",
       "      <td>10000000171</td>\n",
       "      <td>SEBASTIÃO SIBÁ MACHADO OLIVEIRA</td>\n",
       "      <td>DEPUTADO FEDERAL</td>\n",
       "      <td>PT</td>\n",
       "      <td>ELEITO POR QP</td>\n",
       "      <td>AC</td>\n",
       "      <td>18395</td>\n",
       "      <td>MASCULINO</td>\n",
       "      <td>CASADO(A)</td>\n",
       "      <td>SUPERIOR COMPLETO</td>\n",
       "      <td>DEPUTADO</td>\n",
       "      <td>PARDA</td>\n",
       "      <td>24/01/1958</td>\n",
       "      <td>BRASILEIRA NATA</td>\n",
       "    </tr>\n",
       "  </tbody>\n",
       "</table>\n",
       "</div>"
      ],
      "text/plain": [
       "    ano  sq_candidato                   nome_candidato   descricao_cargo  \\\n",
       "0  2014   10000000001           GLADSON DE LIMA CAMELI           SENADOR   \n",
       "1  2014   10000000158  CARLOS CESAR CORREIA DE MESSIAS  DEPUTADO FEDERAL   \n",
       "2  2014   10000000163          LEONARDO CUNHA DE BRITO  DEPUTADO FEDERAL   \n",
       "3  2014   10000000166     RAIMUNDO ANGELIM VASCONCELOS  DEPUTADO FEDERAL   \n",
       "4  2014   10000000171  SEBASTIÃO SIBÁ MACHADO OLIVEIRA  DEPUTADO FEDERAL   \n",
       "\n",
       "  sigla_partido desc_sit_cand_tot sigla_uf  total_votos       sexo  \\\n",
       "0            PP            ELEITO       AC       218756  MASCULINO   \n",
       "1           PSB     ELEITO POR QP       AC        26448  MASCULINO   \n",
       "2            PT     ELEITO POR QP       AC        20876  MASCULINO   \n",
       "3            PT     ELEITO POR QP       AC        39844  MASCULINO   \n",
       "4            PT     ELEITO POR QP       AC        18395  MASCULINO   \n",
       "\n",
       "  estado_civil                 grau_instrucao            descricao_ocupacao  \\\n",
       "0    CASADO(A)              SUPERIOR COMPLETO                      DEPUTADO   \n",
       "1    CASADO(A)  ENSINO FUNDAMENTAL INCOMPLETO                        OUTROS   \n",
       "2    CASADO(A)              SUPERIOR COMPLETO                      ADVOGADO   \n",
       "3    CASADO(A)              SUPERIOR COMPLETO  PROFESSOR DE ENSINO SUPERIOR   \n",
       "4    CASADO(A)              SUPERIOR COMPLETO                      DEPUTADO   \n",
       "\n",
       "  cor_raca data_nascimento descricao_nacionalidade  \n",
       "0    PARDA      26/03/1978         BRASILEIRA NATA  \n",
       "1    PARDA      05/07/1958         BRASILEIRA NATA  \n",
       "2   BRANCA      13/04/1979         BRASILEIRA NATA  \n",
       "3   BRANCA      19/02/1955         BRASILEIRA NATA  \n",
       "4    PARDA      24/01/1958         BRASILEIRA NATA  "
      ]
     },
     "execution_count": 5,
     "metadata": {},
     "output_type": "execute_result"
    }
   ],
   "source": [
    "dados_congresso.head()"
   ]
  },
  {
   "cell_type": "markdown",
   "metadata": {
    "colab_type": "text",
    "id": "NyVUr3NrsT4p"
   },
   "source": [
    "#### Dados da População"
   ]
  },
  {
   "cell_type": "code",
   "execution_count": 6,
   "metadata": {
    "colab": {},
    "colab_type": "code",
    "id": "q36FsV2TsbY8"
   },
   "outputs": [
    {
     "data": {
      "text/html": [
       "<div>\n",
       "<style>\n",
       "    .dataframe thead tr:only-child th {\n",
       "        text-align: right;\n",
       "    }\n",
       "\n",
       "    .dataframe thead th {\n",
       "        text-align: left;\n",
       "    }\n",
       "\n",
       "    .dataframe tbody tr th {\n",
       "        vertical-align: top;\n",
       "    }\n",
       "</style>\n",
       "<table border=\"1\" class=\"dataframe\">\n",
       "  <thead>\n",
       "    <tr style=\"text-align: right;\">\n",
       "      <th></th>\n",
       "      <th>Unidade da Federação</th>\n",
       "      <th>Sexo</th>\n",
       "      <th>Idade</th>\n",
       "      <th>Ano</th>\n",
       "      <th>Cor ou raça</th>\n",
       "      <th>Situação do domicílio</th>\n",
       "      <th>Unnamed: 6</th>\n",
       "    </tr>\n",
       "  </thead>\n",
       "  <tbody>\n",
       "    <tr>\n",
       "      <th>0</th>\n",
       "      <td>Rondônia</td>\n",
       "      <td>Homens</td>\n",
       "      <td>0 a 4 anos</td>\n",
       "      <td>2010.0</td>\n",
       "      <td>Branca</td>\n",
       "      <td>Urbana</td>\n",
       "      <td>18720</td>\n",
       "    </tr>\n",
       "    <tr>\n",
       "      <th>1</th>\n",
       "      <td>Rondônia</td>\n",
       "      <td>Homens</td>\n",
       "      <td>0 a 4 anos</td>\n",
       "      <td>2010.0</td>\n",
       "      <td>Branca</td>\n",
       "      <td>Rural</td>\n",
       "      <td>6024</td>\n",
       "    </tr>\n",
       "    <tr>\n",
       "      <th>2</th>\n",
       "      <td>Rondônia</td>\n",
       "      <td>Homens</td>\n",
       "      <td>0 a 4 anos</td>\n",
       "      <td>2010.0</td>\n",
       "      <td>Preta</td>\n",
       "      <td>Urbana</td>\n",
       "      <td>1755</td>\n",
       "    </tr>\n",
       "    <tr>\n",
       "      <th>3</th>\n",
       "      <td>Rondônia</td>\n",
       "      <td>Homens</td>\n",
       "      <td>0 a 4 anos</td>\n",
       "      <td>2010.0</td>\n",
       "      <td>Preta</td>\n",
       "      <td>Rural</td>\n",
       "      <td>580</td>\n",
       "    </tr>\n",
       "    <tr>\n",
       "      <th>4</th>\n",
       "      <td>Rondônia</td>\n",
       "      <td>Homens</td>\n",
       "      <td>0 a 4 anos</td>\n",
       "      <td>2010.0</td>\n",
       "      <td>Amarela</td>\n",
       "      <td>Urbana</td>\n",
       "      <td>643</td>\n",
       "    </tr>\n",
       "  </tbody>\n",
       "</table>\n",
       "</div>"
      ],
      "text/plain": [
       "  Unidade da Federação    Sexo       Idade     Ano Cor ou raça  \\\n",
       "0             Rondônia  Homens  0 a 4 anos  2010.0      Branca   \n",
       "1             Rondônia  Homens  0 a 4 anos  2010.0      Branca   \n",
       "2             Rondônia  Homens  0 a 4 anos  2010.0       Preta   \n",
       "3             Rondônia  Homens  0 a 4 anos  2010.0       Preta   \n",
       "4             Rondônia  Homens  0 a 4 anos  2010.0     Amarela   \n",
       "\n",
       "  Situação do domicílio Unnamed: 6  \n",
       "0                Urbana      18720  \n",
       "1                 Rural       6024  \n",
       "2                Urbana       1755  \n",
       "3                 Rural        580  \n",
       "4                Urbana        643  "
      ]
     },
     "execution_count": 6,
     "metadata": {},
     "output_type": "execute_result"
    }
   ],
   "source": [
    "dados_ibge.head()"
   ]
  },
  {
   "cell_type": "markdown",
   "metadata": {
    "colab_type": "text",
    "id": "ZktHehnWsZy8"
   },
   "source": []
  },
  {
   "cell_type": "markdown",
   "metadata": {
    "colab_type": "text",
    "id": "HbcU1amSs06d"
   },
   "source": [
    "### 3.1. Filtrando os dados\n",
    "#### 3.1.1. Cadê os pardos e negros?\n",
    " Você deverá filtrar os dados do Congresso para exibir somente os candidatos com cor_racao igual a parda ou preta, independente do cargo e do ano da eleição. Terminou? Agora faz o mesmo para os dados do IBGE.\n"
   ]
  },
  {
   "cell_type": "code",
   "execution_count": 0,
   "metadata": {
    "colab": {},
    "colab_type": "code",
    "collapsed": true,
    "id": "s_9Ir_j5t-H4"
   },
   "outputs": [],
   "source": [
    "# Sua Resposta"
   ]
  },
  {
   "cell_type": "markdown",
   "metadata": {
    "colab_type": "text",
    "id": "JFbOrrRprLKP"
   },
   "source": [
    "#### 3.1.2. E as mulheres?\n",
    " Você deverá filtrar os dados do IBGE para exibir somentes as mulheres. Depois disso, fazer o mesmo com os dados do Congresso, independente do cargo e do ano da eleição. Terminou? Então filtra as mulheres de raça parda ou preta, dos dois datasets.\n"
   ]
  },
  {
   "cell_type": "code",
   "execution_count": 0,
   "metadata": {
    "colab": {},
    "colab_type": "code",
    "collapsed": true,
    "id": "Ku6teClTnxEG"
   },
   "outputs": [],
   "source": [
    "# Sua Resposta"
   ]
  },
  {
   "cell_type": "markdown",
   "metadata": {
    "colab_type": "text",
    "id": "JqgKPc_AulL1"
   },
   "source": [
    "### 3.2. Agrupando e Sumarizando os Dados\n",
    "#### 3.2.1. Distribuição de homens e mulheres por grau de escolaridade no Congresso\n",
    "Você deverá agrupar os dados do Congresso e contar o número de homens e de mulheres e o grau de escolaridade e ordene o resultado em ordem decrescente de quantidade. Depois disso, faça o mesmo extendendo o grupo para cor_raca e ano também. O que você notou?"
   ]
  },
  {
   "cell_type": "code",
   "execution_count": 0,
   "metadata": {
    "colab": {},
    "colab_type": "code",
    "collapsed": true,
    "id": "Dh2e-gxowg7Z"
   },
   "outputs": [],
   "source": [
    "# Sua resposta"
   ]
  },
  {
   "cell_type": "markdown",
   "metadata": {
    "colab_type": "text",
    "id": "LUuQoJwb3TgV"
   },
   "source": [
    "## **Gabarito**\n",
    "\n",
    "Questão 3.1.1."
   ]
  },
  {
   "cell_type": "code",
   "execution_count": 7,
   "metadata": {
    "colab": {},
    "colab_type": "code",
    "collapsed": true,
    "id": "82oSER4m3fHn"
   },
   "outputs": [],
   "source": [
    "congresso_pardos_negros = dados_congresso.loc[(dados_congresso['cor_raca'] == 'PRETA') | (dados_congresso['cor_raca'] == 'PARDA')]"
   ]
  },
  {
   "cell_type": "code",
   "execution_count": 8,
   "metadata": {
    "colab": {},
    "colab_type": "code",
    "collapsed": true,
    "id": "ooCSslLt5GrX"
   },
   "outputs": [],
   "source": [
    "ibge_pardos_negros = dados_ibge.loc[(dados_ibge['Cor ou raça'] == 'Parda') | (dados_ibge['Cor ou raça'] == 'Preta')]"
   ]
  },
  {
   "cell_type": "markdown",
   "metadata": {
    "colab_type": "text",
    "id": "Ojp1Fgqc5cGZ"
   },
   "source": [
    "Questão 3.1.2."
   ]
  },
  {
   "cell_type": "code",
   "execution_count": 10,
   "metadata": {
    "colab": {},
    "colab_type": "code",
    "id": "C63sXu865fq3"
   },
   "outputs": [],
   "source": [
    "ibge_pardos_negros_mulheres = ibge_pardos_negros.loc[ibge_pardos_negros['Sexo'] == 'Mulheres']"
   ]
  },
  {
   "cell_type": "code",
   "execution_count": 11,
   "metadata": {
    "colab": {},
    "colab_type": "code",
    "collapsed": true,
    "id": "Rm9DY7Kl53Qb"
   },
   "outputs": [],
   "source": [
    "congresso_pardos_negros_feminino = congresso_pardos_negros.loc[congresso_pardos_negros['sexo'] == 'FEMININO']"
   ]
  },
  {
   "cell_type": "markdown",
   "metadata": {
    "colab_type": "text",
    "id": "ghuLV-bg6A8p"
   },
   "source": [
    "Questão 3.2.1."
   ]
  },
  {
   "cell_type": "code",
   "execution_count": 14,
   "metadata": {
    "colab": {},
    "colab_type": "code",
    "id": "zQPtQACF6E97"
   },
   "outputs": [],
   "source": [
    "distribuicao_sexo_instrucao = dados_congresso.groupby(['sexo', 'grau_instrucao']).size().reset_index(name = 'quantidade').sort_values('quantidade', ascending = False)"
   ]
  },
  {
   "cell_type": "code",
   "execution_count": 15,
   "metadata": {
    "colab": {},
    "colab_type": "code",
    "id": "3ymDYQo56av8"
   },
   "outputs": [],
   "source": [
    "distribuicao_sexo_instrucao_cor_raca = dados_congresso.groupby(['sexo', 'grau_instrucao', 'cor_raca', 'ano']).size().reset_index(name = 'quantidade').sort_values('quantidade', ascending = False)"
   ]
  }
 ],
 "metadata": {
  "colab": {
   "collapsed_sections": [],
   "name": "ComeceAqui.ipynb",
   "provenance": [],
   "version": "0.3.2"
  },
  "kernelspec": {
   "display_name": "Python 3",
   "language": "python",
   "name": "python3"
  },
  "language_info": {
   "codemirror_mode": {
    "name": "ipython",
    "version": 3
   },
   "file_extension": ".py",
   "mimetype": "text/x-python",
   "name": "python",
   "nbconvert_exporter": "python",
   "pygments_lexer": "ipython3",
   "version": "3.6.3"
  }
 },
 "nbformat": 4,
 "nbformat_minor": 1
}
